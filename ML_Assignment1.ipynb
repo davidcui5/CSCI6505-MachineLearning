{
 "cells": [
  {
   "cell_type": "markdown",
   "metadata": {},
   "source": [
    "## Q1\n",
    "TensorFlow tutorial showed me how to load the MNIST data, which gives me 4 numpy arrays.\n",
    "\n",
    "https://www.tensorflow.org/tutorials/\n",
    "\n",
    "I am interested in the x_train and x_test data, which I can convert to images.\n",
    "\n",
    "I used shape to understand that x_train contains 60,000 28x28 matrix, and x_test contains 10,000 28x28 matrix.\n",
    "\n",
    "Each image data is already 28x28 matrix, so I just use matplotlib to plot some images.\n",
    "\n",
    "In this case, I print the first 3 examples from x_train."
   ]
  },
  {
   "cell_type": "code",
   "execution_count": 2,
   "metadata": {},
   "outputs": [
    {
     "data": {
      "image/png": "[encoded data removed]",
      "text/plain": [
       "<Figure size 432x288 with 1 Axes>"
      ]
     },
     "metadata": {
      "needs_background": "light"
     },
     "output_type": "display_data"
    },
    {
     "data": {
      "image/png": "[encoded data removed]",
      "text/plain": [
       "<Figure size 432x288 with 1 Axes>"
      ]
     },
     "metadata": {
      "needs_background": "light"
     },
     "output_type": "display_data"
    },
    {
     "data": {
      "image/png": "[encoded data removed]",
      "text/plain": [
       "<Figure size 432x288 with 1 Axes>"
      ]
     },
     "metadata": {
      "needs_background": "light"
     },
     "output_type": "display_data"
    }
   ],
   "source": [
    "import tensorflow as tf\n",
    "import matplotlib.pyplot as plt\n",
    "mnist = tf.keras.datasets.mnist\n",
    "(x_train, y_train),(x_test, y_test) = mnist.load_data()\n",
    "start = 0\n",
    "end = 3\n",
    "for i in range(start, end):\n",
    "    plt.gray()\n",
    "    plt.imshow(x_train[i])\n",
    "    plt.show()"
   ]
  },
  {
   "cell_type": "markdown",
   "metadata": {},
   "source": [
    "## Q2 a)"
   ]
  },
  {
   "cell_type": "markdown",
   "metadata": {},
   "source": [
    "We want more training data to improve our models, but we often don't have a lot of data. So we want to make the best use of all the data and k-fold cross validation helps us do that.\n",
    "\n",
    "In k-fold CV, we divide the evenly distributed data set into k equal-sized partitions and we use 1 partition as the testing data, and the other k-1 partitions as the training data. We do this for k rotations where we rotate which partition of data we use as the testing data. \n",
    "\n",
    "For example, in 10-fold CV, we initially use the 1st block as testing data, and the other 9 as training data. Then, we rotate and we use the 2nd block as test data and use the other 9 blocks as training data, and so on.\n",
    "\n",
    "Each rotation of training and testing provides us a measure (such as accuracy), and we can average the k measures we got from k rotations, or we can study the distribution of the measures to gain more insights.\n",
    "\n",
    "This allows us to make full use of our data set and help us understand what models and what hyperparameters lead to what accuracies, and we can select our models and hyperparameters from the result of k-fold cross validation."
   ]
  },
  {
   "cell_type": "markdown",
   "metadata": {},
   "source": [
    "## Q2 b)"
   ]
  },
  {
   "cell_type": "markdown",
   "metadata": {},
   "source": [
    "my_cross_val_score is the script of my implementation of k-fold CV\n",
    "\n",
    "model: the classifier model\n",
    "\n",
    "x: the features\n",
    "\n",
    "y: the labels\n",
    "\n",
    "k: the k in k-fold CV"
   ]
  },
  {
   "cell_type": "code",
   "execution_count": 3,
   "metadata": {},
   "outputs": [],
   "source": [
    "from sklearn.utils import resample\n",
    "import numpy as np\n",
    "\n",
    "def my_cross_val_score(model, x, y, k):\n",
    "    if(k <= 1):\n",
    "        print(\"k should be greater than 1\")\n",
    "        return\n",
    "    \n",
    "    # shuffle the input, since Iris data is grouped by labels, resample keeps x and y in order with one another\n",
    "    x, y = resample(x, y, replace=False)\n",
    "    \n",
    "    scores = []\n",
    "    \n",
    "    size = x.shape[0]\n",
    "    partition_size = size // k\n",
    "    \n",
    "    # k-fold CV\n",
    "    for i in range (0, k):\n",
    "        test_start = i * partition_size\n",
    "        test_end = (i + 1) * partition_size\n",
    "        \n",
    "        x_train = np.concatenate((x[0:test_start], x[partition_size:size]), axis=0)\n",
    "        y_train = np.concatenate((y[0:test_start], y[partition_size:size]), axis=0)\n",
    "        x_test = x[test_start:test_end]\n",
    "        y_test = y[test_start:test_end]\n",
    "        \n",
    "        model.fit(x_train, y_train)\n",
    "        y_predicted = model.predict(x_test)\n",
    "        scores.append(np.mean(y_test == y_predicted))\n",
    "        \n",
    "    return np.array(scores)"
   ]
  },
  {
   "cell_type": "markdown",
   "metadata": {},
   "source": [
    "Now, I'll compare my_cross_val_score with cross_val_score from sklearn"
   ]
  },
  {
   "cell_type": "code",
   "execution_count": 6,
   "metadata": {},
   "outputs": [
    {
     "name": "stdout",
     "output_type": "stream",
     "text": [
      "When model is SVM\n",
      "sk accuracy: 0.9733 (+/- 0.0442)\n",
      "[1.         0.93333333 1.         1.         0.86666667 1.\n",
      " 0.93333333 1.         1.         1.        ]\n",
      "my accuracy: 0.9800 (+/- 0.0427)\n",
      "[0.86666667 1.         1.         1.         1.         1.\n",
      " 1.         1.         1.         0.93333333]\n",
      "When model is random forest\n",
      "sk accuracy: 0.9533 (+/- 0.0521)\n",
      "[1.         0.93333333 1.         0.93333333 0.86666667 0.86666667\n",
      " 0.93333333 1.         1.         1.        ]\n",
      "my accuracy: 0.9933 (+/- 0.0200)\n",
      "[0.93333333 1.         1.         1.         1.         1.\n",
      " 1.         1.         1.         1.        ]\n"
     ]
    }
   ],
   "source": [
    "from sklearn import model_selection\n",
    "from sklearn import svm\n",
    "from sklearn.ensemble import RandomForestClassifier\n",
    "\n",
    "iris_data = np.loadtxt('iris.data',delimiter=',')\n",
    "x = iris_data[:,0:4]\n",
    "y = iris_data[:,4]\n",
    "\n",
    "# comparison when SVM is model, cv is 10 for both\n",
    "print(\"When model is SVM\")\n",
    "\n",
    "sk_scores = model_selection.cross_val_score(svm.SVC(kernel='linear'), x, y, cv=10)\n",
    "print(\"sk accuracy: %0.4f (+/- %0.4f)\" % (sk_scores.mean(), sk_scores.std()))\n",
    "print(sk_scores)\n",
    "\n",
    "my_scores = my_cross_val_score(svm.SVC(kernel='linear'), x, y, 10)\n",
    "print(\"my accuracy: %0.4f (+/- %0.4f)\" % (my_scores.mean(), my_scores.std()))\n",
    "print(my_scores)\n",
    "\n",
    "# comparison when RF is model, cv is 10 for both\n",
    "print(\"When model is random forest\")\n",
    "\n",
    "sk_scores = model_selection.cross_val_score(RandomForestClassifier(n_estimators=10), x, y, cv=10)\n",
    "print(\"sk accuracy: %0.4f (+/- %0.4f)\" % (sk_scores.mean(), sk_scores.std()))\n",
    "print(sk_scores)\n",
    "\n",
    "my_scores = my_cross_val_score(RandomForestClassifier(n_estimators=10), x, y, 10)\n",
    "print(\"my accuracy: %0.4f (+/- %0.4f)\" % (my_scores.mean(), my_scores.std()))\n",
    "print(my_scores)"
   ]
  },
  {
   "cell_type": "markdown",
   "metadata": {},
   "source": [
    "Based on the above result, I can see that accuracies generated by my function and sklearn's function aren't very different. \n",
    "\n",
    "They shouldn't be because the algorithms for k-fold cross validation should be similar. \n",
    "\n",
    "The difference in my accuracies and sklearn accuracies is probably of because the way I shuffled the dataset and splitted the dataset to k partitions is different from the way sklearn implemented it. \n",
    "\n",
    "Because the shuffling and partitions are different, the resulting accuracies are slightly different as well."
   ]
  },
  {
   "cell_type": "markdown",
   "metadata": {},
   "source": [
    "## Q2 c)"
   ]
  },
  {
   "cell_type": "code",
   "execution_count": 7,
   "metadata": {},
   "outputs": [
    {
     "name": "stdout",
     "output_type": "stream",
     "text": [
      "SVM accuracy: 0.9733 (+/- 0.0442)\n",
      "[1.         0.93333333 1.         1.         0.86666667 1.\n",
      " 0.93333333 1.         1.         1.        ]\n",
      "RF accuracy: 0.9600 (+/- 0.0442)\n",
      "[1.         0.93333333 1.         0.93333333 0.86666667 0.93333333\n",
      " 0.93333333 1.         1.         1.        ]\n"
     ]
    }
   ],
   "source": [
    "SVM_scores = model_selection.cross_val_score(svm.SVC(kernel='linear'), x, y, cv=10)\n",
    "print(\"SVM accuracy: %0.4f (+/- %0.4f)\" % (SVM_scores.mean(), SVM_scores.std()))\n",
    "print(SVM_scores)\n",
    "\n",
    "RF_scores = model_selection.cross_val_score(RandomForestClassifier(n_estimators=10), x, y, cv=10)\n",
    "print(\"RF accuracy: %0.4f (+/- %0.4f)\" % (RF_scores.mean(), RF_scores.std()))\n",
    "print(RF_scores)"
   ]
  },
  {
   "cell_type": "markdown",
   "metadata": {},
   "source": [
    "From the above results, it seems that SVM provides more accuracy for this particular dataset if we use sklearn's cross validation accuracy score as our evaluation criteria. \n",
    "\n",
    "However, if I look at individual folds, I can see that both models achieve 100% accuracy in some folds. \n",
    "\n",
    "In addition, there are many measures for evaluating models other than just accuracy, such as recall or fall-out, and different users will use different measures to evaluate models and tune hyperparameters. \n",
    "\n",
    "Therefore, I can say that it is not sufficient to say that SVM is a better model than RF simply using cross validation scores. \n",
    "\n",
    "Furthermore, if I look at results from 2b), my function says RF has more accuracies than SVM. \n",
    "\n",
    "Therefore, I would say that whether SVM or RF is more suitable for a problem depends on the exact situation. \n",
    "\n",
    "And in this Iris data's case, I think SVM and RF are fairly equal if we are looking for high accuracy."
   ]
  },
  {
   "cell_type": "markdown",
   "metadata": {},
   "source": [
    "## Q3"
   ]
  },
  {
   "cell_type": "markdown",
   "metadata": {},
   "source": [
    "My methodology is to:\n",
    "\n",
    "1. Load the wine train data, get x and y\n",
    "2. Use 10-fold cross validation of sklearn on the wine_train data with SVM, MLP, RF models with different hyperparameters\n",
    "3. Choose the model and hyper parameter with best accuracy because I want high accuracy when classifying wine_test data\n",
    "4. Use the model and hyper parameters from step 3 to classify wine_test data\n",
    "\n",
    "I don't shuffle the data myself because sklearn's cross_val_score shuffles them somehow.\n",
    "\n",
    "The reason I use 10 fold is because wine_train has 120 data points, so 10 fold feels about right to me for making good use of the wine_train data set."
   ]
  },
  {
   "cell_type": "code",
   "execution_count": 8,
   "metadata": {},
   "outputs": [
    {
     "name": "stdout",
     "output_type": "stream",
     "text": [
      "Accuracy on linear SVC: 0.9250 (+/- 0.0786)\n",
      "Accuracy on poly SVC: 0.9500 (+/- 0.0764)\n",
      "Accuracy on MLP: 0.3417 (+/- 0.0870)\n",
      "Accuracy on RF-5: 0.9417 (+/- 0.0990)\n",
      "Accuracy on RF-7: 0.9500 (+/- 0.0408)\n",
      "Accuracy on RF-10: 0.9250 (+/- 0.0870)\n",
      "Accuracy on RF-20: 0.9667 (+/- 0.0553)\n",
      "Accuracy on RF-40: 0.9583 (+/- 0.0854)\n"
     ]
    }
   ],
   "source": [
    "import numpy as np\n",
    "from sklearn.utils import resample\n",
    "from sklearn import model_selection\n",
    "from sklearn import svm\n",
    "from sklearn.neural_network import MLPClassifier\n",
    "from sklearn.ensemble import RandomForestClassifier\n",
    "\n",
    "wine_train = np.loadtxt('wine.train',delimiter=',')\n",
    "\n",
    "x_train = wine_train[:,1:13]\n",
    "y_train = np.int32(wine_train[:,0])\n",
    "\n",
    "CV=10\n",
    "\n",
    "scores = model_selection.cross_val_score(svm.SVC(kernel='linear'), x_train, y_train, cv=CV)\n",
    "print(\"Accuracy on linear SVC: %0.4f (+/- %0.4f)\" % (scores.mean(), scores.std()))\n",
    "\n",
    "scores = model_selection.cross_val_score(svm.SVC(kernel='poly'), x_train, y_train, cv=CV)\n",
    "print(\"Accuracy on poly SVC: %0.4f (+/- %0.4f)\" % (scores.mean(), scores.std()))\n",
    "\n",
    "scores = model_selection.cross_val_score(MLPClassifier(hidden_layer_sizes=(20, 30, 20)), x_train, y_train, cv=CV)\n",
    "print(\"Accuracy on MLP: %0.4f (+/- %0.4f)\" % (scores.mean(), scores.std()))\n",
    "\n",
    "scores = model_selection.cross_val_score(RandomForestClassifier(n_estimators=5), x_train, y_train, cv=CV)\n",
    "print(\"Accuracy on RF-5: %0.4f (+/- %0.4f)\" % (scores.mean(), scores.std()))\n",
    "\n",
    "scores = model_selection.cross_val_score(RandomForestClassifier(n_estimators=7), x_train, y_train, cv=CV)\n",
    "print(\"Accuracy on RF-7: %0.4f (+/- %0.4f)\" % (scores.mean(), scores.std()))\n",
    "\n",
    "scores = model_selection.cross_val_score(RandomForestClassifier(n_estimators=10), x_train, y_train, cv=CV)\n",
    "print(\"Accuracy on RF-10: %0.4f (+/- %0.4f)\" % (scores.mean(), scores.std()))\n",
    "                                         \n",
    "scores = model_selection.cross_val_score(RandomForestClassifier(n_estimators=20), x_train, y_train, cv=CV)\n",
    "print(\"Accuracy on RF-20: %0.4f (+/- %0.4f)\" % (scores.mean(), scores.std()))\n",
    "\n",
    "scores = model_selection.cross_val_score(RandomForestClassifier(n_estimators=40), x_train, y_train, cv=CV)\n",
    "print(\"Accuracy on RF-40: %0.4f (+/- %0.4f)\" % (scores.mean(), scores.std()))"
   ]
  },
  {
   "cell_type": "markdown",
   "metadata": {},
   "source": [
    "Random Forest seems to be accurate for classifying this wine data, but actually each time I re-run the code above, the RF models give different accuracies, but generally speaking, RF models are pretty accurate for my purposes. So I will use RF-20 as my final model. Now, I will train the RF-20 model with all the wine_train data and classify wine_test."
   ]
  },
  {
   "cell_type": "code",
   "execution_count": 9,
   "metadata": {},
   "outputs": [],
   "source": [
    "model = RandomForestClassifier(n_estimators=20)\n",
    "\n",
    "x_train = wine_train[:,1:13]\n",
    "y_train = np.int32(wine_train[:,0])\n",
    "\n",
    "model.fit(x_train,y_train)\n",
    "\n",
    "wine_test = np.loadtxt('wine.test',delimiter=',')\n",
    "\n",
    "x_test = wine_test[:,1:13]\n",
    "\n",
    "y_predicted = model.predict(x_test)\n",
    "\n",
    "np.savetxt(\"wine_test_labels.csv\", y_predicted.astype(int), fmt='%i', delimiter=\",\")"
   ]
  }
 ],
 "metadata": {
  "kernelspec": {
   "display_name": "Python 3",
   "language": "python",
   "name": "python3"
  },
  "language_info": {
   "codemirror_mode": {
    "name": "ipython",
    "version": 3
   },
   "file_extension": ".py",
   "mimetype": "text/x-python",
   "name": "python",
   "nbconvert_exporter": "python",
   "pygments_lexer": "ipython3",
   "version": "3.6.6"
  }
 },
 "nbformat": 4,
 "nbformat_minor": 2
}
